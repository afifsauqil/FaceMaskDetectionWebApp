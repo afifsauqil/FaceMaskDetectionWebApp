{
 "cells": [
  {
   "cell_type": "markdown",
   "metadata": {},
   "source": [
    " \n",
    "# DATA PRE-PROCESSING  "
   ]
  },
  {
   "cell_type": "code",
   "execution_count": null,
   "metadata": {},
   "outputs": [],
   "source": [
    "import cv2,os\n",
    "\n",
    "data_path=r'C:\\Users\\rishi\\Desktop\\Mask'\n",
    "categories=os.listdir(data_path)\n",
    "labels=[i for i in range(len(categories))]\n",
    "\n",
    "label_dict=dict(zip(categories,labels)) #empty dictionary\n",
    "\n",
    "print(label_dict)\n",
    "print(categories)\n",
    "print(labels)"
   ]
  },
  {
   "cell_type": "code",
   "execution_count": 2,
   "metadata": {},
   "outputs": [],
   "source": [
    "img_size=100\n",
    "data=[]\n",
    "target=[]\n",
    "\n",
    "\n",
    "for category in categories:\n",
    "    folder_path=os.path.join(data_path,category)\n",
    "    img_names=os.listdir(folder_path)\n",
    "        \n",
    "    for img_name in img_names:\n",
    "        img_path=os.path.join(folder_path,img_name)\n",
    "        img=cv2.imread(img_path)\n",
    "\n",
    "        try:\n",
    "            gray=cv2.cvtColor(img,cv2.COLOR_BGR2GRAY)           \n",
    "            #Coverting the image into gray scale\n",
    "            resized=cv2.resize(gray,(img_size,img_size))\n",
    "            #resizing the gray scale into 50x50, since we need a fixed common size for all the images in the dataset\n",
    "            data.append(resized)\n",
    "            target.append(label_dict[category])\n",
    "            #appending the image and the label(categorized) into the list (dataset)\n",
    "\n",
    "        except Exception as e:\n",
    "            print('Exception:',e)\n",
    "            #if any exception rasied, the exception will be printed here. And pass to the next image"
   ]
  },
  {
   "cell_type": "code",
   "execution_count": 4,
   "metadata": {},
   "outputs": [
    {
     "name": "stderr",
     "output_type": "stream",
     "text": [
      "Using TensorFlow backend.\n"
     ]
    }
   ],
   "source": [
    "import numpy as np\n",
    "\n",
    "data=np.array(data)/255.0\n",
    "data=np.reshape(data,(data.shape[0],img_size,img_size,1))\n",
    "target=np.array(target)\n",
    "\n",
    "from keras.utils import np_utils\n",
    "\n",
    "new_target=np_utils.to_categorical(target)"
   ]
  },
  {
   "cell_type": "code",
   "execution_count": 5,
   "metadata": {},
   "outputs": [],
   "source": [
    "np.save('data',data)\n",
    "np.save('target',new_target)"
   ]
  },
  {
   "cell_type": "markdown",
   "metadata": {},
   "source": [
    "# Convolutional Neural Network Architecture\n"
   ]
  },
  {
   "cell_type": "code",
   "execution_count": 6,
   "metadata": {},
   "outputs": [],
   "source": [
    "import numpy as np\n",
    "\n",
    "data=np.load(r'C:\\Users\\rishi\\data.npy')\n",
    "target=np.load(r'C:\\Users\\rishi\\target.npy')\n"
   ]
  },
  {
   "cell_type": "code",
   "execution_count": 7,
   "metadata": {},
   "outputs": [],
   "source": [
    "from keras.models import Sequential\n",
    "from keras.layers import Dense,Activation,Flatten,Dropout\n",
    "from keras.layers import Conv2D,MaxPooling2D\n",
    "from keras.callbacks import ModelCheckpoint\n",
    "\n",
    "model=Sequential()\n",
    "\n",
    "model.add(Conv2D(200,(3,3),input_shape=data.shape[1:]))\n",
    "model.add(Activation('relu'))\n",
    "model.add(MaxPooling2D(pool_size=(2,2)))\n",
    "#The first CNN layer followed by Relu and MaxPooling layers\n",
    "\n",
    "model.add(Conv2D(100,(3,3)))\n",
    "model.add(Activation('relu'))\n",
    "model.add(MaxPooling2D(pool_size=(2,2)))\n",
    "#The second convolution layer followed by Relu and MaxPooling layers\n",
    "\n",
    "model.add(Flatten())\n",
    "model.add(Dropout(0.5))\n",
    "#Flatten layer to stack the output convolutions from second convolution layer\n",
    "model.add(Dense(50,activation='relu'))\n",
    "#Dense layer of 64 neurons\n",
    "model.add(Dense(2,activation='softmax'))\n",
    "#The Final layer with two outputs for two categories\n",
    "\n",
    "model.compile(loss='categorical_crossentropy',optimizer='adam',metrics=['accuracy'])"
   ]
  },
  {
   "cell_type": "code",
   "execution_count": 8,
   "metadata": {},
   "outputs": [],
   "source": [
    "from sklearn.model_selection import train_test_split\n",
    "\n",
    "train_data,test_data,train_target,test_target=train_test_split(data,target,test_size=0.1)"
   ]
  },
  {
   "cell_type": "code",
   "execution_count": 9,
   "metadata": {},
   "outputs": [
    {
     "name": "stdout",
     "output_type": "stream",
     "text": [
      "Train on 990 samples, validate on 248 samples\n",
      "Epoch 1/20\n",
      "990/990 [==============================] - 49s 49ms/step - loss: 0.7804 - accuracy: 0.4970 - val_loss: 0.6802 - val_accuracy: 0.6532\n",
      "Epoch 2/20\n",
      "990/990 [==============================] - 46s 47ms/step - loss: 0.6293 - accuracy: 0.6394 - val_loss: 0.4743 - val_accuracy: 0.8105\n",
      "Epoch 3/20\n",
      "990/990 [==============================] - 47s 47ms/step - loss: 0.4359 - accuracy: 0.7960 - val_loss: 0.3391 - val_accuracy: 0.8508\n",
      "Epoch 4/20\n",
      "990/990 [==============================] - 49s 50ms/step - loss: 0.2575 - accuracy: 0.9040 - val_loss: 0.2727 - val_accuracy: 0.8589\n",
      "Epoch 5/20\n",
      "990/990 [==============================] - 53s 54ms/step - loss: 0.2216 - accuracy: 0.9111 - val_loss: 0.2120 - val_accuracy: 0.9073\n",
      "Epoch 6/20\n",
      "990/990 [==============================] - 49s 50ms/step - loss: 0.1984 - accuracy: 0.9202 - val_loss: 0.2804 - val_accuracy: 0.8831\n",
      "Epoch 7/20\n",
      "990/990 [==============================] - 49s 49ms/step - loss: 0.1931 - accuracy: 0.9263 - val_loss: 0.2242 - val_accuracy: 0.9032\n",
      "Epoch 8/20\n",
      "990/990 [==============================] - 47s 48ms/step - loss: 0.1284 - accuracy: 0.9444 - val_loss: 0.1978 - val_accuracy: 0.9153\n",
      "Epoch 9/20\n",
      "990/990 [==============================] - 48s 49ms/step - loss: 0.1050 - accuracy: 0.9616 - val_loss: 0.1475 - val_accuracy: 0.9637\n",
      "Epoch 10/20\n",
      "990/990 [==============================] - 48s 49ms/step - loss: 0.0871 - accuracy: 0.9717 - val_loss: 0.1520 - val_accuracy: 0.9597\n",
      "Epoch 11/20\n",
      "990/990 [==============================] - 49s 50ms/step - loss: 0.0639 - accuracy: 0.9808 - val_loss: 0.1971 - val_accuracy: 0.9556\n",
      "Epoch 12/20\n",
      "990/990 [==============================] - 47s 48ms/step - loss: 0.0615 - accuracy: 0.9788 - val_loss: 0.1344 - val_accuracy: 0.9677\n",
      "Epoch 13/20\n",
      "990/990 [==============================] - 48s 49ms/step - loss: 0.0833 - accuracy: 0.9697 - val_loss: 0.1621 - val_accuracy: 0.9516\n",
      "Epoch 14/20\n",
      "990/990 [==============================] - 48s 49ms/step - loss: 0.0664 - accuracy: 0.9778 - val_loss: 0.1567 - val_accuracy: 0.9435\n",
      "Epoch 15/20\n",
      "990/990 [==============================] - 49s 49ms/step - loss: 0.1093 - accuracy: 0.9485 - val_loss: 0.1628 - val_accuracy: 0.9395\n",
      "Epoch 16/20\n",
      "990/990 [==============================] - 49s 50ms/step - loss: 0.0696 - accuracy: 0.9747 - val_loss: 0.1576 - val_accuracy: 0.9395\n",
      "Epoch 17/20\n",
      "990/990 [==============================] - 50s 50ms/step - loss: 0.0688 - accuracy: 0.9778 - val_loss: 0.1908 - val_accuracy: 0.9355\n",
      "Epoch 18/20\n",
      "990/990 [==============================] - 48s 49ms/step - loss: 0.0364 - accuracy: 0.9869 - val_loss: 0.1934 - val_accuracy: 0.9637\n",
      "Epoch 19/20\n",
      "990/990 [==============================] - 49s 49ms/step - loss: 0.0344 - accuracy: 0.9889 - val_loss: 0.1749 - val_accuracy: 0.9435\n",
      "Epoch 20/20\n",
      "990/990 [==============================] - 49s 49ms/step - loss: 0.0394 - accuracy: 0.9869 - val_loss: 0.1584 - val_accuracy: 0.9476\n"
     ]
    }
   ],
   "source": [
    "checkpoint = ModelCheckpoint('model-{epoch:03d}.model',monitor='val_loss',verbose=0,save_best_only=True,mode='auto')\n",
    "history=model.fit(train_data,train_target,epochs=20,callbacks=[checkpoint],validation_split=0.2)"
   ]
  },
  {
   "cell_type": "markdown",
   "metadata": {},
   "source": [
    "# Detection "
   ]
  },
  {
   "cell_type": "code",
   "execution_count": 10,
   "metadata": {},
   "outputs": [],
   "source": [
    "from keras.models import load_model\n",
    "import cv2\n",
    "import numpy as np"
   ]
  },
  {
   "cell_type": "code",
   "execution_count": 23,
   "metadata": {},
   "outputs": [],
   "source": [
    "model = load_model(r'C:\\Users\\rishi\\model-004.model')\n",
    "\n",
    "face_clsfr=cv2.CascadeClassifier(r'C:\\Users\\rishi\\Anaconda3\\Lib\\site-packages\\cv2\\data\\haarcascade_frontalface_default.xml')\n",
    "\n",
    "source=cv2.VideoCapture(2)\n",
    "\n",
    "labels_dict={0:'MASK',1:'NO MASK'}\n",
    "color_dict={0:(0,255,0),1:(0,0,255)}"
   ]
  },
  {
   "cell_type": "code",
   "execution_count": 42,
   "metadata": {},
   "outputs": [],
   "source": [
    "video_capture = cv2.VideoCapture(0)\n",
    "\n",
    "while(True):\n",
    "    ret, img = video_capture.read()\n",
    "    gray = cv2.cvtColor(img,cv2.COLOR_BGR2GRAY)\n",
    "    faces=face_clsfr.detectMultiScale(gray,1.3,5)  \n",
    "\n",
    "    for (x,y,w,h) in faces:\n",
    "    \n",
    "        face_img=gray[y:y+w,x:x+w]\n",
    "        resized=cv2.resize(face_img,(100,100))\n",
    "        normalized=resized/255.0\n",
    "        reshaped=np.reshape(normalized,(1,100,100,1))\n",
    "        result=model.predict(reshaped)\n",
    "\n",
    "        label=np.argmax(result,axis=1)[0]\n",
    "      \n",
    "        cv2.rectangle(img,(x,y),(x+w,y+h),color_dict[label],2)\n",
    "        cv2.rectangle(img,(x,y-40),(x+w,y),color_dict[label],-1)\n",
    "        cv2.putText(img, labels_dict[label], (x, y-10),cv2.FONT_HERSHEY_SIMPLEX,0.8,(255,255,255),2)\n",
    "        \n",
    "        \n",
    "    cv2.imshow('LIVE',img)\n",
    "    key=cv2.waitKey(1)\n",
    "    \n",
    "    if(key==27):\n",
    "        break\n",
    "        \n",
    "cv2.destroyAllWindows()\n",
    "video_capture.release()"
   ]
  },
  {
   "cell_type": "code",
   "execution_count": 73,
   "metadata": {},
   "outputs": [],
   "source": [
    "source.release()"
   ]
  }
 ],
 "metadata": {
  "kernelspec": {
   "display_name": "Python 3",
   "language": "python",
   "name": "python3"
  },
  "language_info": {
   "codemirror_mode": {
    "name": "ipython",
    "version": 3
   },
   "file_extension": ".py",
   "mimetype": "text/x-python",
   "name": "python",
   "nbconvert_exporter": "python",
   "pygments_lexer": "ipython3",
   "version": "3.7.4"
  }
 },
 "nbformat": 4,
 "nbformat_minor": 2
}
